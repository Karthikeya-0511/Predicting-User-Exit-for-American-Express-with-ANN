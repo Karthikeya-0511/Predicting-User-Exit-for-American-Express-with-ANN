{
  "nbformat": 4,
  "nbformat_minor": 0,
  "metadata": {
    "colab": {
      "provenance": []
    },
    "kernelspec": {
      "name": "python3",
      "display_name": "Python 3"
    },
    "language_info": {
      "name": "python"
    }
  },
  "cells": [
    {
      "cell_type": "markdown",
      "source": [
        "**Initializing the libraries**"
      ],
      "metadata": {
        "id": "KCmcSx-wcSaQ"
      }
    },
    {
      "cell_type": "code",
      "source": [
        "import numpy as np\n",
        "import pandas as pd\n",
        "import tensorflow as tf"
      ],
      "metadata": {
        "id": "UPBhjIsCdJ8f"
      },
      "execution_count": null,
      "outputs": []
    },
    {
      "cell_type": "code",
      "source": [
        "tf.__version__"
      ],
      "metadata": {
        "colab": {
          "base_uri": "https://localhost:8080/",
          "height": 36
        },
        "id": "BQmzLzSadSzN",
        "outputId": "79f222f6-5a05-44ee-ec88-95658992edf0"
      },
      "execution_count": null,
      "outputs": [
        {
          "output_type": "execute_result",
          "data": {
            "text/plain": [
              "'2.18.0'"
            ],
            "application/vnd.google.colaboratory.intrinsic+json": {
              "type": "string"
            }
          },
          "metadata": {},
          "execution_count": 30
        }
      ]
    },
    {
      "cell_type": "markdown",
      "source": [
        "**Importing Dataset**"
      ],
      "metadata": {
        "id": "bPIpdSuVclbu"
      }
    },
    {
      "cell_type": "code",
      "source": [
        "df=pd.read_csv('american Express card.csv')\n",
        "X=df.iloc[:, :-1].values\n",
        "Y=df.iloc[:,-1].values\n"
      ],
      "metadata": {
        "id": "VNrnE2VqdbWS"
      },
      "execution_count": null,
      "outputs": []
    },
    {
      "cell_type": "code",
      "source": [
        "print(X)"
      ],
      "metadata": {
        "id": "11QSUFszTNQ0"
      },
      "execution_count": null,
      "outputs": []
    },
    {
      "cell_type": "code",
      "source": [
        "print(Y)"
      ],
      "metadata": {
        "id": "AjjOuIyBmJG3"
      },
      "execution_count": null,
      "outputs": []
    },
    {
      "cell_type": "markdown",
      "source": [
        "**Encoding Categorical Data**"
      ],
      "metadata": {
        "id": "OKA48LHQczAg"
      }
    },
    {
      "cell_type": "markdown",
      "source": [
        "**Gender Column: Label Encoding**"
      ],
      "metadata": {
        "id": "PCbHd0yZc23j"
      }
    },
    {
      "cell_type": "code",
      "source": [
        "from sklearn.preprocessing import LabelEncoder\n",
        "label_encoder=LabelEncoder()\n",
        "X[:,2]=label_encoder.fit_transform(X[:,2])"
      ],
      "metadata": {
        "id": "jEueSWNqeKmF"
      },
      "execution_count": null,
      "outputs": []
    },
    {
      "cell_type": "code",
      "source": [
        "print(X)"
      ],
      "metadata": {
        "id": "jnx89GAufHVo",
        "collapsed": true
      },
      "execution_count": null,
      "outputs": []
    },
    {
      "cell_type": "markdown",
      "source": [
        "**Geography Column:OneHotEncoding**"
      ],
      "metadata": {
        "id": "GYdk8DfWdDbr"
      }
    },
    {
      "cell_type": "code",
      "source": [
        "from sklearn.compose import ColumnTransformer\n",
        "from sklearn.preprocessing import OneHotEncoder"
      ],
      "metadata": {
        "id": "aTVlZ0G2fM_7"
      },
      "execution_count": null,
      "outputs": []
    },
    {
      "cell_type": "code",
      "source": [
        "ct=ColumnTransformer(transformers=[('encoder',OneHotEncoder(), [1])], remainder='passthrough')\n",
        "X=np.array(ct.fit_transform(X))\n"
      ],
      "metadata": {
        "id": "11tU2NjOfeuX"
      },
      "execution_count": null,
      "outputs": []
    },
    {
      "cell_type": "code",
      "source": [
        "print(X)"
      ],
      "metadata": {
        "id": "svDO7f0MgzfZ"
      },
      "execution_count": null,
      "outputs": []
    },
    {
      "cell_type": "markdown",
      "source": [
        "**Splitting Dataset Into Training & Test set**"
      ],
      "metadata": {
        "id": "ZvwSMtZ2dOYJ"
      }
    },
    {
      "cell_type": "code",
      "source": [
        "from sklearn.model_selection import train_test_split\n",
        "X_train,X_test,Y_train,Y_test=train_test_split(X,Y,test_size=0.2,random_state=0)"
      ],
      "metadata": {
        "id": "zKIOSys_hKbL"
      },
      "execution_count": null,
      "outputs": []
    },
    {
      "cell_type": "code",
      "source": [
        "\n",
        "print(X_train)"
      ],
      "metadata": {
        "id": "-ndNsYkzjARe"
      },
      "execution_count": null,
      "outputs": []
    },
    {
      "cell_type": "code",
      "source": [
        "\n",
        "print(X_test)"
      ],
      "metadata": {
        "id": "ka5adQPijDWC"
      },
      "execution_count": null,
      "outputs": []
    },
    {
      "cell_type": "code",
      "source": [
        "print(Y_train)"
      ],
      "metadata": {
        "id": "pnWmAIyejHHP"
      },
      "execution_count": null,
      "outputs": []
    },
    {
      "cell_type": "code",
      "source": [
        "print(Y_test)"
      ],
      "metadata": {
        "id": "3X-Z5FRojL9F"
      },
      "execution_count": null,
      "outputs": []
    },
    {
      "cell_type": "markdown",
      "source": [
        "**Feature Scaling**"
      ],
      "metadata": {
        "id": "QiBoiVmQdeeK"
      }
    },
    {
      "cell_type": "code",
      "source": [
        "from sklearn.preprocessing import StandardScaler\n",
        "sc=StandardScaler()\n",
        "X_train=sc.fit_transform(X_train)\n",
        "X_test=sc.transform(X_test)"
      ],
      "metadata": {
        "id": "e71k6ndKjPib"
      },
      "execution_count": null,
      "outputs": []
    },
    {
      "cell_type": "code",
      "source": [
        "print(X_train)"
      ],
      "metadata": {
        "id": "e8cF9eUqjlb_"
      },
      "execution_count": null,
      "outputs": []
    },
    {
      "cell_type": "code",
      "source": [
        "print(X_test)"
      ],
      "metadata": {
        "id": "m4GHJcArjpvg"
      },
      "execution_count": null,
      "outputs": []
    },
    {
      "cell_type": "markdown",
      "source": [
        "**ANN**"
      ],
      "metadata": {
        "id": "6K9ryvQ2WW3d"
      }
    },
    {
      "cell_type": "markdown",
      "source": [
        "**Initialization**"
      ],
      "metadata": {
        "id": "DigQSx1EdmWZ"
      }
    },
    {
      "cell_type": "code",
      "source": [
        "ann=tf.keras.models.Sequential()"
      ],
      "metadata": {
        "id": "tn9n_FrKWNJa"
      },
      "execution_count": null,
      "outputs": []
    },
    {
      "cell_type": "markdown",
      "source": [
        "**Adding input layer and first hidden layer**"
      ],
      "metadata": {
        "id": "KKYbQC-jW_Yi"
      }
    },
    {
      "cell_type": "code",
      "source": [
        "ann.add(tf.keras.layers.Dense(units=6,activation='relu'))"
      ],
      "metadata": {
        "id": "CM3wP56GW9SC"
      },
      "execution_count": null,
      "outputs": []
    },
    {
      "cell_type": "markdown",
      "source": [
        "**Adding second hidden layer**"
      ],
      "metadata": {
        "id": "si0sZyceXotz"
      }
    },
    {
      "cell_type": "code",
      "source": [
        "ann.add(tf.keras.layers.Dense(units=6,activation='relu'))"
      ],
      "metadata": {
        "id": "ZMaXiuhYXnte"
      },
      "execution_count": null,
      "outputs": []
    },
    {
      "cell_type": "markdown",
      "source": [
        "**Adding output layer**"
      ],
      "metadata": {
        "id": "rJauX_RrXx5d"
      }
    },
    {
      "cell_type": "code",
      "source": [
        "ann.add(tf.keras.layers.Dense(units=1,activation='sigmoid'))"
      ],
      "metadata": {
        "id": "r8laHoaSXw8o"
      },
      "execution_count": null,
      "outputs": []
    },
    {
      "cell_type": "markdown",
      "source": [
        "**ANN Training**"
      ],
      "metadata": {
        "id": "llAqiQtVZnFI"
      }
    },
    {
      "cell_type": "markdown",
      "source": [
        "**Compiling ANN**"
      ],
      "metadata": {
        "id": "mPdRGAITZxxu"
      }
    },
    {
      "cell_type": "code",
      "source": [
        "ann.compile(optimizer='adam',loss='binary_crossentropy',metrics=['accuracy'])"
      ],
      "metadata": {
        "id": "j0KBb8C2Zwxz"
      },
      "execution_count": null,
      "outputs": []
    },
    {
      "cell_type": "markdown",
      "source": [
        "**TRAINING on Training set**"
      ],
      "metadata": {
        "id": "VSRONSMHaLug"
      }
    },
    {
      "cell_type": "code",
      "source": [
        "ann.fit(X_train, Y_train, batch_size=32, epochs=120)"
      ],
      "metadata": {
        "id": "ny1kN58scy5-"
      },
      "execution_count": null,
      "outputs": []
    },
    {
      "cell_type": "markdown",
      "source": [
        "**Predictions**"
      ],
      "metadata": {
        "id": "8m5_NI6Nfh7a"
      }
    },
    {
      "cell_type": "markdown",
      "source": [
        "**Prediction on Testset**"
      ],
      "metadata": {
        "id": "T_m2lrUymdIk"
      }
    },
    {
      "cell_type": "code",
      "source": [
        "Y_pred=ann.predict(X_test)\n",
        "Y_pred=(Y_pred>0.5)\n",
        "print(np.concatenate((Y_pred.reshape(len(Y_pred),1),Y_test.reshape(len(Y_test),1)),1))"
      ],
      "metadata": {
        "id": "doMl0Zcsfe8Q"
      },
      "execution_count": null,
      "outputs": []
    },
    {
      "cell_type": "markdown",
      "source": [
        "**Confusion Matrix**"
      ],
      "metadata": {
        "id": "-C4bqyfbmpCs"
      }
    },
    {
      "cell_type": "code",
      "source": [
        "from sklearn.metrics import confusion_matrix, accuracy_score\n",
        "\n",
        "# Ensure Y_test and Y_pred are 1-dimensional\n",
        "Y_test = np.array(Y_test).flatten()\n",
        "Y_pred = np.array(Y_pred).flatten()\n",
        "\n",
        "# Check for NaN values in Y_test and Y_pred\n",
        "if np.isnan(Y_test).any() or np.isnan(Y_pred).any():\n",
        "    # Remove rows with NaN values in Y_test and Y_pred\n",
        "    mask = ~np.isnan(Y_test) & ~np.isnan(Y_pred)\n",
        "    Y_test = Y_test[mask]\n",
        "    Y_pred = Y_pred[mask]\n",
        "\n",
        "# Compute confusion matrix and accuracy score\n",
        "cm = confusion_matrix(Y_test, Y_pred)\n",
        "print(cm)\n",
        "print(accuracy_score(Y_test, Y_pred))\n",
        "\n",
        "# Print predictions and actual labels\n",
        "print(\"Predictions vs Actual Labels:\")\n",
        "for i in range(len(Y_pred)):\n",
        "    print(f\"Prediction: {Y_pred[i]}, Actual: {Y_test[i]}\")\n",
        "\n",
        "# Identify correct and incorrect predictions\n",
        "correct_predictions = Y_pred == Y_test\n",
        "incorrect_predictions = Y_pred != Y_test\n",
        "\n",
        "print(\"Correct Predictions:\", np.sum(correct_predictions))\n",
        "print(\"Incorrect Predictions:\", np.sum(incorrect_predictions))\n",
        "\n",
        "\n",
        "\n"
      ],
      "metadata": {
        "id": "k-SLWQzKiNJM"
      },
      "execution_count": null,
      "outputs": []
    }
  ]
}